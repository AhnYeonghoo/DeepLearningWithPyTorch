{
 "cells": [
  {
   "cell_type": "code",
   "execution_count": 9,
   "metadata": {},
   "outputs": [
    {
     "data": {
      "text/plain": [
       "tensor([[0., 0., 0.],\n",
       "        [0., 0., 0.],\n",
       "        [0., 0., 0.],\n",
       "        [0., 0., 0.]])"
      ]
     },
     "execution_count": 9,
     "metadata": {},
     "output_type": "execute_result"
    }
   ],
   "source": [
    "import torch\n",
    "\n",
    "x = torch.FloatTensor(4)\n",
    "W = torch.FloatTensor(4, 3)\n",
    "b = torch.FloatTensor(3)\n",
    "W"
   ]
  },
  {
   "cell_type": "code",
   "execution_count": 5,
   "metadata": {},
   "outputs": [],
   "source": [
    "def linear_function(x, W, b):\n",
    "    y = torch.matmul(x, W) + b\n",
    "    return y"
   ]
  },
  {
   "cell_type": "code",
   "execution_count": 6,
   "metadata": {},
   "outputs": [
    {
     "name": "stdout",
     "output_type": "stream",
     "text": [
      "W:torch.Size([4, 3]), x:torch.Size([4]), b: torch.Size([3])\n"
     ]
    }
   ],
   "source": [
    "print(f'W:{W.shape}, x:{x.shape}, b: {b.shape}')"
   ]
  },
  {
   "cell_type": "code",
   "execution_count": 8,
   "metadata": {},
   "outputs": [
    {
     "data": {
      "text/plain": [
       "tensor([8.5403e-39, 1.0194e-38, 2.2421e-44])"
      ]
     },
     "execution_count": 8,
     "metadata": {},
     "output_type": "execute_result"
    }
   ],
   "source": [
    "y = linear_function(x, W, b)\n",
    "y"
   ]
  },
  {
   "cell_type": "code",
   "execution_count": 10,
   "metadata": {},
   "outputs": [
    {
     "data": {
      "text/plain": [
       "torch.Size([3])"
      ]
     },
     "execution_count": 10,
     "metadata": {},
     "output_type": "execute_result"
    }
   ],
   "source": [
    "y.shape"
   ]
  },
  {
   "cell_type": "code",
   "execution_count": 15,
   "metadata": {},
   "outputs": [
    {
     "name": "stdout",
     "output_type": "stream",
     "text": [
      "연산전: torch.Size([10, 1, 20, 20])\n",
      "conv1 연산 후: torch.Size([10, 3, 16, 16])\n",
      "conv2 연산후 : torch.Size([10, 10, 12, 12])\n",
      "차원 감소 후: torch.Size([10, 1440])\n",
      "fc1 연산 후: torch.Size([10, 50])\n",
      "fc2 연산 후: torch.Size([10, 10])\n"
     ]
    }
   ],
   "source": [
    "import torch\n",
    "import torch.nn as nn\n",
    "import torch.nn.functional as F\n",
    "\n",
    "class CNN(nn.Module):\n",
    "    def __init__(self):\n",
    "        super(CNN, self).__init__()\n",
    "        self.conv1 = nn.Conv2d(in_channels=1, out_channels=3, kernel_size=5, stride=1)\n",
    "        self.conv2 = nn.Conv2d(in_channels=3, out_channels=10, kernel_size=5, stride=1)\n",
    "        self.fc1 = nn.Linear(10 * 12 * 12, 50)\n",
    "        self.fc2 = nn.Linear(50, 10)\n",
    "    \n",
    "    def forward(self, x):\n",
    "        print(f'연산전: {x.size()}')\n",
    "        x = F.relu(self.conv1(x))\n",
    "        print(f\"conv1 연산 후: {x.size()}\")\n",
    "        x = F.relu(self.conv2(x))\n",
    "        print(f'conv2 연산후 : {x.size()}')\n",
    "        x = x.view(-1, 10 * 12 * 12)\n",
    "        print(f\"차원 감소 후: {x.size()}\")\n",
    "        x = F.relu(self.fc1(x))\n",
    "        print(f'fc1 연산 후: {x.size()}')\n",
    "        x = F.relu(self.fc2(x))\n",
    "        print(f'fc2 연산 후: {x.size()}')\n",
    "        return x\n",
    "\n",
    "cnn = CNN()\n",
    "output = cnn(torch.randn(10, 1, 20, 20))"
   ]
  },
  {
   "cell_type": "code",
   "execution_count": 16,
   "metadata": {},
   "outputs": [
    {
     "name": "stdout",
     "output_type": "stream",
     "text": [
      "연산전: torch.Size([10, 1, 20, 20])\n",
      "max_pool1 연산후: torch.Size([10, 1, 10, 10])\n",
      "max_pool2 연산후: torch.Size([10, 1, 5, 5])\n",
      "차원 감소후: torch.Size([1, 250])\n",
      "fc1 연산후: torch.Size([1, 50])\n",
      "fc2 연산후: torch.Size([1, 10])\n"
     ]
    }
   ],
   "source": [
    "class CNN2(nn.Module):\n",
    "    def __init__(self):\n",
    "        super(CNN2, self).__init__()\n",
    "        self.max_pool1 = nn.MaxPool2d(kernel_size=2)\n",
    "        self.max_pool2 = nn.MaxPool2d(kernel_size=2)\n",
    "        self.fc1 = nn.Linear(10 * 5 * 5, 50)\n",
    "        self.fc2 = nn.Linear(50, 10)\n",
    "    \n",
    "    def forward(self, x):\n",
    "        print(f'연산전: {x.size()}')\n",
    "        x = F.relu(self.max_pool1(x))\n",
    "        print(f'max_pool1 연산후: {x.size()}')\n",
    "        x = F.relu(self.max_pool2(x))\n",
    "        print(f'max_pool2 연산후: {x.size()}')\n",
    "        x = x.view(-1, 10 * 5 * 5)\n",
    "        print(f'차원 감소후: {x.size()}')\n",
    "        x = F.relu(self.fc1(x))\n",
    "        print(f'fc1 연산후: {x.size()}')\n",
    "        x = self.fc2(x)\n",
    "        print(f'fc2 연산후: {x.size()}')\n",
    "        return x\n",
    "\n",
    "cnn2 = CNN2()\n",
    "output = cnn2(torch.randn(10, 1, 20, 20))"
   ]
  },
  {
   "cell_type": "code",
   "execution_count": 18,
   "metadata": {},
   "outputs": [],
   "source": [
    "import torch\n",
    "import torch.nn as nn\n",
    "import torch.nn.functional as F\n",
    "import torch.optim as optim\n",
    "from torchvision import datasets, transforms\n",
    "\n",
    "train_data = datasets.MNIST('./data/', train=True, download=True, transform=transforms.Compose([\n",
    "    transforms.ToTensor(),\n",
    "    transforms.Normalize((0.1307,), (0.3081))]\n",
    "))\n",
    "train_loader = torch.utils.data.DataLoader(dataset=train_data, batch_size=50, shuffle=True)\n",
    "\n",
    "test_data = datasets.MNIST('./data/', train=False, transform=transforms.Compose([\n",
    "    transforms.ToTensor(),\n",
    "    transforms.Normalize((0.1307,), (0.3081,))]\n",
    "))\n",
    "test_loader = torch.utils.data.DataLoader(dataset=test_data, batch_size=50, shuffle=True)"
   ]
  },
  {
   "cell_type": "code",
   "execution_count": 19,
   "metadata": {},
   "outputs": [],
   "source": [
    "class CNN(nn.Module):\n",
    "    def __init__(self):\n",
    "        super(CNN, self).__init__()\n",
    "        self.conv1 = nn.Conv2d(in_channels=1, out_channels=20, kernel_size=5, stride=1)\n",
    "        self.conv2 = nn.Conv2d(in_channels=20, out_channels=50, kernel_size=5, stride=1)\n",
    "        self.fc1 = nn.Linear(4 * 4 * 50, 500)\n",
    "        self.fc2 = nn.Linear(500, 10)\n",
    "        \n",
    "    def forward(self, x):\n",
    "        x = F.relu(self.conv1(x))\n",
    "        x = F.max_pool2d(x, kernel_size=2, stride=2)\n",
    "        x = F.relu(self.conv2(x))\n",
    "        x = F.max_pool2d(x, kernel_size=2, stride=2)\n",
    "        x = x.view(-1, 4 * 4 * 50)\n",
    "        x = F.relu(self.fc1(x))\n",
    "        x = self.fc2(x)\n",
    "        return x"
   ]
  },
  {
   "cell_type": "code",
   "execution_count": 20,
   "metadata": {},
   "outputs": [],
   "source": [
    "cnn = CNN()\n",
    "criterion = torch.nn.CrossEntropyLoss()\n",
    "optimizer = optim.SGD(cnn.parameters(), lr=0.01)"
   ]
  },
  {
   "cell_type": "code",
   "execution_count": 21,
   "metadata": {},
   "outputs": [
    {
     "name": "stdout",
     "output_type": "stream",
     "text": [
      "loss of 0 epoch, 0 index: 2.311591148376465\n",
      "loss of 0 epoch, 100 index: 1.4453136920928955\n",
      "loss of 0 epoch, 200 index: 0.6443017721176147\n",
      "loss of 0 epoch, 300 index: 0.27937498688697815\n",
      "loss of 0 epoch, 400 index: 0.19198156893253326\n",
      "loss of 0 epoch, 500 index: 0.38074791431427\n",
      "loss of 0 epoch, 600 index: 0.2774350047111511\n",
      "loss of 0 epoch, 700 index: 0.27242350578308105\n",
      "loss of 0 epoch, 800 index: 0.31759920716285706\n",
      "loss of 0 epoch, 900 index: 0.13244831562042236\n",
      "loss of 0 epoch, 1000 index: 0.10725497454404831\n",
      "loss of 0 epoch, 1100 index: 0.09097827225923538\n",
      "loss of 1 epoch, 0 index: 0.08145273476839066\n",
      "loss of 1 epoch, 100 index: 0.332340806722641\n",
      "loss of 1 epoch, 200 index: 0.042103949934244156\n",
      "loss of 1 epoch, 300 index: 0.1940106749534607\n",
      "loss of 1 epoch, 400 index: 0.039032794535160065\n",
      "loss of 1 epoch, 500 index: 0.10476246476173401\n",
      "loss of 1 epoch, 600 index: 0.2988612651824951\n",
      "loss of 1 epoch, 700 index: 0.0373876690864563\n",
      "loss of 1 epoch, 800 index: 0.15957942605018616\n",
      "loss of 1 epoch, 900 index: 0.04299291595816612\n",
      "loss of 1 epoch, 1000 index: 0.12067346274852753\n",
      "loss of 1 epoch, 1100 index: 0.1380837857723236\n",
      "loss of 2 epoch, 0 index: 0.11342481523752213\n",
      "loss of 2 epoch, 100 index: 0.05567467212677002\n",
      "loss of 2 epoch, 200 index: 0.031205473467707634\n",
      "loss of 2 epoch, 300 index: 0.052571430802345276\n",
      "loss of 2 epoch, 400 index: 0.2764047384262085\n",
      "loss of 2 epoch, 500 index: 0.12000951915979385\n",
      "loss of 2 epoch, 600 index: 0.02188025787472725\n",
      "loss of 2 epoch, 700 index: 0.043239716440439224\n",
      "loss of 2 epoch, 800 index: 0.04006805270910263\n",
      "loss of 2 epoch, 900 index: 0.06684232503175735\n",
      "loss of 2 epoch, 1000 index: 0.048153553158044815\n",
      "loss of 2 epoch, 1100 index: 0.04431125149130821\n",
      "loss of 3 epoch, 0 index: 0.05908317118883133\n",
      "loss of 3 epoch, 100 index: 0.13354939222335815\n",
      "loss of 3 epoch, 200 index: 0.12136378884315491\n",
      "loss of 3 epoch, 300 index: 0.03169943764805794\n",
      "loss of 3 epoch, 400 index: 0.04419544339179993\n",
      "loss of 3 epoch, 500 index: 0.09655452519655228\n",
      "loss of 3 epoch, 600 index: 0.2423272579908371\n",
      "loss of 3 epoch, 700 index: 0.00849141739308834\n",
      "loss of 3 epoch, 800 index: 0.023054741322994232\n",
      "loss of 3 epoch, 900 index: 0.023624328896403313\n",
      "loss of 3 epoch, 1000 index: 0.05915747210383415\n",
      "loss of 3 epoch, 1100 index: 0.04691120982170105\n",
      "loss of 4 epoch, 0 index: 0.009137621149420738\n",
      "loss of 4 epoch, 100 index: 0.05300213024020195\n",
      "loss of 4 epoch, 200 index: 0.12946458160877228\n",
      "loss of 4 epoch, 300 index: 0.017693037167191505\n",
      "loss of 4 epoch, 400 index: 0.03382299840450287\n",
      "loss of 4 epoch, 500 index: 0.14990045130252838\n",
      "loss of 4 epoch, 600 index: 0.03806179389357567\n",
      "loss of 4 epoch, 700 index: 0.12154671549797058\n",
      "loss of 4 epoch, 800 index: 0.036979012191295624\n",
      "loss of 4 epoch, 900 index: 0.24721668660640717\n",
      "loss of 4 epoch, 1000 index: 0.1136198416352272\n",
      "loss of 4 epoch, 1100 index: 0.02475099079310894\n",
      "loss of 5 epoch, 0 index: 0.014841373078525066\n",
      "loss of 5 epoch, 100 index: 0.1528145670890808\n",
      "loss of 5 epoch, 200 index: 0.032052770256996155\n",
      "loss of 5 epoch, 300 index: 0.024422617629170418\n",
      "loss of 5 epoch, 400 index: 0.05004192516207695\n",
      "loss of 5 epoch, 500 index: 0.014136488549411297\n",
      "loss of 5 epoch, 600 index: 0.03677051141858101\n",
      "loss of 5 epoch, 700 index: 0.04747825115919113\n",
      "loss of 5 epoch, 800 index: 0.04490357264876366\n",
      "loss of 5 epoch, 900 index: 0.05552215874195099\n",
      "loss of 5 epoch, 1000 index: 0.05831758677959442\n",
      "loss of 5 epoch, 1100 index: 0.011265904642641544\n",
      "loss of 6 epoch, 0 index: 0.013491043820977211\n",
      "loss of 6 epoch, 100 index: 0.034718867391347885\n",
      "loss of 6 epoch, 200 index: 0.17435507476329803\n",
      "loss of 6 epoch, 300 index: 0.026968510821461678\n",
      "loss of 6 epoch, 400 index: 0.02725115977227688\n",
      "loss of 6 epoch, 500 index: 0.009884250350296497\n",
      "loss of 6 epoch, 600 index: 0.04122352600097656\n",
      "loss of 6 epoch, 700 index: 0.033203981816768646\n",
      "loss of 6 epoch, 800 index: 0.03769635409116745\n",
      "loss of 6 epoch, 900 index: 0.09485970437526703\n",
      "loss of 6 epoch, 1000 index: 0.009409192018210888\n",
      "loss of 6 epoch, 1100 index: 0.014312095940113068\n",
      "loss of 7 epoch, 0 index: 0.020163917914032936\n",
      "loss of 7 epoch, 100 index: 0.02487577125430107\n",
      "loss of 7 epoch, 200 index: 0.01827142760157585\n",
      "loss of 7 epoch, 300 index: 0.025661468505859375\n",
      "loss of 7 epoch, 400 index: 0.005979153327643871\n",
      "loss of 7 epoch, 500 index: 0.02297794632613659\n",
      "loss of 7 epoch, 600 index: 0.03021211549639702\n",
      "loss of 7 epoch, 700 index: 0.04439527168869972\n",
      "loss of 7 epoch, 800 index: 0.02055005542933941\n",
      "loss of 7 epoch, 900 index: 0.41381368041038513\n",
      "loss of 7 epoch, 1000 index: 0.011003478430211544\n",
      "loss of 7 epoch, 1100 index: 0.029254289343953133\n",
      "loss of 8 epoch, 0 index: 0.020322805270552635\n",
      "loss of 8 epoch, 100 index: 0.028399161994457245\n",
      "loss of 8 epoch, 200 index: 0.0041655972599983215\n",
      "loss of 8 epoch, 300 index: 0.07046017795801163\n",
      "loss of 8 epoch, 400 index: 0.010648523457348347\n",
      "loss of 8 epoch, 500 index: 0.005141206551343203\n",
      "loss of 8 epoch, 600 index: 0.019006162881851196\n",
      "loss of 8 epoch, 700 index: 0.004572331439703703\n",
      "loss of 8 epoch, 800 index: 0.001556958886794746\n",
      "loss of 8 epoch, 900 index: 0.034618813544511795\n",
      "loss of 8 epoch, 1000 index: 0.0776609554886818\n",
      "loss of 8 epoch, 1100 index: 0.028713837265968323\n",
      "loss of 9 epoch, 0 index: 0.03420603647828102\n",
      "loss of 9 epoch, 100 index: 0.017440587282180786\n",
      "loss of 9 epoch, 200 index: 0.04290030151605606\n",
      "loss of 9 epoch, 300 index: 0.006865169852972031\n",
      "loss of 9 epoch, 400 index: 0.03383525460958481\n",
      "loss of 9 epoch, 500 index: 0.004317952785640955\n",
      "loss of 9 epoch, 600 index: 0.008739585988223553\n",
      "loss of 9 epoch, 700 index: 0.04533098265528679\n",
      "loss of 9 epoch, 800 index: 0.004696198273450136\n",
      "loss of 9 epoch, 900 index: 0.05178971216082573\n",
      "loss of 9 epoch, 1000 index: 0.03304480016231537\n",
      "loss of 9 epoch, 1100 index: 0.022781670093536377\n"
     ]
    }
   ],
   "source": [
    "cnn.train()\n",
    "for epoch in range(10):\n",
    "    for index, (data, target) in enumerate(train_loader):\n",
    "        optimizer.zero_grad()\n",
    "        output = cnn(data)\n",
    "        loss = criterion(output, target)\n",
    "        loss.backward()\n",
    "        optimizer.step()\n",
    "        \n",
    "        if index % 100 == 0:\n",
    "            print(\"loss of {} epoch, {} index: {}\".format(epoch, index, loss.item()))"
   ]
  },
  {
   "cell_type": "code",
   "execution_count": null,
   "metadata": {},
   "outputs": [],
   "source": []
  }
 ],
 "metadata": {
  "kernelspec": {
   "display_name": "base",
   "language": "python",
   "name": "python3"
  },
  "language_info": {
   "codemirror_mode": {
    "name": "ipython",
    "version": 3
   },
   "file_extension": ".py",
   "mimetype": "text/x-python",
   "name": "python",
   "nbconvert_exporter": "python",
   "pygments_lexer": "ipython3",
   "version": "3.10.9"
  },
  "orig_nbformat": 4
 },
 "nbformat": 4,
 "nbformat_minor": 2
}
