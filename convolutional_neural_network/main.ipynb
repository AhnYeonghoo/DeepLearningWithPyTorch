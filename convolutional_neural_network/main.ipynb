{
 "cells": [
  {
   "cell_type": "code",
   "execution_count": 1,
   "metadata": {},
   "outputs": [
    {
     "name": "stdout",
     "output_type": "stream",
     "text": [
      "Epoch [0.2], Step [0.16666666666666666], Loss: 0.1634\n",
      "Epoch [0.2], Step [0.3333333333333333], Loss: 0.0963\n",
      "Epoch [0.2], Step [0.5], Loss: 0.0605\n",
      "Epoch [0.2], Step [0.6666666666666666], Loss: 0.0690\n",
      "Epoch [0.2], Step [0.8333333333333334], Loss: 0.1093\n",
      "Epoch [0.2], Step [1.0], Loss: 0.1030\n",
      "Epoch [1.2], Step [0.16666666666666666], Loss: 0.0280\n",
      "Epoch [1.2], Step [0.3333333333333333], Loss: 0.0362\n",
      "Epoch [1.2], Step [0.5], Loss: 0.0842\n",
      "Epoch [1.2], Step [0.6666666666666666], Loss: 0.0284\n",
      "Epoch [1.2], Step [0.8333333333333334], Loss: 0.0137\n",
      "Epoch [1.2], Step [1.0], Loss: 0.0194\n",
      "Epoch [2.2], Step [0.16666666666666666], Loss: 0.0145\n",
      "Epoch [2.2], Step [0.3333333333333333], Loss: 0.0386\n",
      "Epoch [2.2], Step [0.5], Loss: 0.0832\n",
      "Epoch [2.2], Step [0.6666666666666666], Loss: 0.0329\n",
      "Epoch [2.2], Step [0.8333333333333334], Loss: 0.0070\n",
      "Epoch [2.2], Step [1.0], Loss: 0.0476\n",
      "Epoch [3.2], Step [0.16666666666666666], Loss: 0.0240\n",
      "Epoch [3.2], Step [0.3333333333333333], Loss: 0.0107\n",
      "Epoch [3.2], Step [0.5], Loss: 0.0085\n",
      "Epoch [3.2], Step [0.6666666666666666], Loss: 0.0085\n",
      "Epoch [3.2], Step [0.8333333333333334], Loss: 0.0168\n",
      "Epoch [3.2], Step [1.0], Loss: 0.0426\n",
      "Epoch [4.2], Step [0.16666666666666666], Loss: 0.1045\n",
      "Epoch [4.2], Step [0.3333333333333333], Loss: 0.0321\n",
      "Epoch [4.2], Step [0.5], Loss: 0.0282\n",
      "Epoch [4.2], Step [0.6666666666666666], Loss: 0.0278\n",
      "Epoch [4.2], Step [0.8333333333333334], Loss: 0.0889\n",
      "Epoch [4.2], Step [1.0], Loss: 0.1029\n"
     ]
    }
   ],
   "source": [
    "import torch\n",
    "import torchvision\n",
    "import torch.nn as nn\n",
    "import torchvision.transforms as transforms\n",
    "\n",
    "device = torch.device('cuda:0' if torch.cuda.is_available() else 'cpu')\n",
    "\n",
    "num_epochs = 5\n",
    "num_classes = 10\n",
    "batch_size = 100\n",
    "learning_rate = 0.001\n",
    "\n",
    "train_dataset = torchvision.datasets.MNIST(root=\"../data/\",\n",
    "                                           train=True,\n",
    "                                           transform=transforms.ToTensor(),\n",
    "                                           download=True)\n",
    "\n",
    "test_dataset = torchvision.datasets.MNIST(root=\"../data\",\n",
    "                                          train=False,\n",
    "                                          transform=transforms.ToTensor())\n",
    "\n",
    "train_loader = torch.utils.data.DataLoader(dataset=train_dataset,\n",
    "                                           batch_size=batch_size,\n",
    "                                           shuffle=True)\n",
    "\n",
    "test_loader = torch.utils.data.DataLoader(dataset=test_dataset,\n",
    "                                          batch_size=batch_size,\n",
    "                                          shuffle=False)\n",
    "\n",
    "# 두개의 Convolutional layer를 갖는(convolution 연산과 pooling 연산을 하는) CNN 정의\n",
    "class ConvNet(nn.Module):\n",
    "    def __init__(self, num_classes=10):\n",
    "        super(ConvNet, self).__init__()\n",
    "        self.layer1 = nn.Sequential(\n",
    "            nn.Conv2d(1, 16, kernel_size=5, stride=1, padding=2),\n",
    "            nn.BatchNorm2d(16),\n",
    "            nn.ReLU(),\n",
    "            nn.MaxPool2d(kernel_size=2, stride=2))\n",
    "        self.layer2 = nn.Sequential(\n",
    "            nn.Conv2d(16, 32, kernel_size=5, stride=1, padding=2),\n",
    "            nn.BatchNorm2d(32),\n",
    "            nn.ReLU(),\n",
    "            nn.MaxPool2d(kernel_size=2, stride=2))\n",
    "        self.fc = nn.Linear(7*7*32, num_classes)\n",
    "        \n",
    "    def forward(self, x):\n",
    "        out = self.layer1(x)\n",
    "        out = self.layer2(out)\n",
    "        out = out.reshape(out.size(0), -1)\n",
    "        out = self.fc(out)\n",
    "        return out\n",
    "    \n",
    "model = ConvNet(num_classes).to(device)\n",
    "\n",
    "criterion = nn.CrossEntropyLoss()\n",
    "optimizer = torch.optim.Adam(model.parameters(), lr=learning_rate)\n",
    "\n",
    "total_step = len(train_loader)\n",
    "for epoch in range(num_epochs):\n",
    "    for i, (images, labels) in enumerate(train_loader):\n",
    "        images = images.to(device)\n",
    "        labels = labels.to(device)\n",
    "        \n",
    "        outputs = model(images)\n",
    "        loss = criterion(outputs, labels)\n",
    "        \n",
    "        optimizer.zero_grad()\n",
    "        loss.backward()\n",
    "        optimizer.step()\n",
    "        \n",
    "        if (i+1) % 100 == 0:\n",
    "            print(f\"Epoch [{epoch+1/num_epochs}], Step [{(i+1)/total_step}], Loss: {loss.item():.4f}\")\n",
    "    "
   ]
  },
  {
   "cell_type": "code",
   "execution_count": 2,
   "metadata": {},
   "outputs": [
    {
     "name": "stdout",
     "output_type": "stream",
     "text": [
      "Test Accuracy of the model on the 10000 test images: 98.51\n"
     ]
    }
   ],
   "source": [
    "model.eval()\n",
    "with torch.no_grad():\n",
    "    correct = 0\n",
    "    total = 0\n",
    "    for images, labels in test_loader:\n",
    "        images = images.to(device)\n",
    "        labels = labels.to(device)\n",
    "        outputs = model(images)\n",
    "        _, predicted = torch.max(outputs.data, 1)\n",
    "        total += labels.size(0)\n",
    "        correct += (predicted == labels).sum().item()\n",
    "        \n",
    "    print(f\"Test Accuracy of the model on the 10000 test images: {(100*correct / total)}\")"
   ]
  },
  {
   "cell_type": "code",
   "execution_count": 3,
   "metadata": {},
   "outputs": [],
   "source": [
    "torch.save(model.state_dict(), 'model.ckpt')"
   ]
  },
  {
   "cell_type": "code",
   "execution_count": null,
   "metadata": {},
   "outputs": [],
   "source": []
  }
 ],
 "metadata": {
  "kernelspec": {
   "display_name": "base",
   "language": "python",
   "name": "python3"
  },
  "language_info": {
   "codemirror_mode": {
    "name": "ipython",
    "version": 3
   },
   "file_extension": ".py",
   "mimetype": "text/x-python",
   "name": "python",
   "nbconvert_exporter": "python",
   "pygments_lexer": "ipython3",
   "version": "3.10.9"
  },
  "orig_nbformat": 4
 },
 "nbformat": 4,
 "nbformat_minor": 2
}
