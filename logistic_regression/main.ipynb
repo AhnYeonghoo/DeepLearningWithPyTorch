{
 "cells": [
  {
   "cell_type": "code",
   "execution_count": 2,
   "metadata": {},
   "outputs": [
    {
     "name": "stdout",
     "output_type": "stream",
     "text": [
      "Epoch [0.2], Step [99.00166666666667], Loss:2.2250\n",
      "Epoch [0.2], Step [199.00166666666667], Loss:2.1317\n",
      "Epoch [0.2], Step [299.00166666666667], Loss:2.0586\n",
      "Epoch [0.2], Step [399.00166666666667], Loss:1.9588\n",
      "Epoch [0.2], Step [499.00166666666667], Loss:1.9091\n",
      "Epoch [0.2], Step [599.0016666666667], Loss:1.7781\n",
      "Epoch [1.2], Step [99.00166666666667], Loss:1.7576\n",
      "Epoch [1.2], Step [199.00166666666667], Loss:1.7175\n",
      "Epoch [1.2], Step [299.00166666666667], Loss:1.5569\n",
      "Epoch [1.2], Step [399.00166666666667], Loss:1.6032\n",
      "Epoch [1.2], Step [499.00166666666667], Loss:1.5354\n",
      "Epoch [1.2], Step [599.0016666666667], Loss:1.4494\n",
      "Epoch [2.2], Step [99.00166666666667], Loss:1.4315\n",
      "Epoch [2.2], Step [199.00166666666667], Loss:1.3384\n",
      "Epoch [2.2], Step [299.00166666666667], Loss:1.2628\n",
      "Epoch [2.2], Step [399.00166666666667], Loss:1.2971\n",
      "Epoch [2.2], Step [499.00166666666667], Loss:1.3354\n",
      "Epoch [2.2], Step [599.0016666666667], Loss:1.2385\n",
      "Epoch [3.2], Step [99.00166666666667], Loss:1.1293\n",
      "Epoch [3.2], Step [199.00166666666667], Loss:1.2101\n",
      "Epoch [3.2], Step [299.00166666666667], Loss:1.1756\n",
      "Epoch [3.2], Step [399.00166666666667], Loss:1.1908\n",
      "Epoch [3.2], Step [499.00166666666667], Loss:1.1718\n",
      "Epoch [3.2], Step [599.0016666666667], Loss:1.1807\n",
      "Epoch [4.2], Step [99.00166666666667], Loss:1.0826\n",
      "Epoch [4.2], Step [199.00166666666667], Loss:0.9964\n",
      "Epoch [4.2], Step [299.00166666666667], Loss:1.0309\n",
      "Epoch [4.2], Step [399.00166666666667], Loss:1.0355\n",
      "Epoch [4.2], Step [499.00166666666667], Loss:1.0396\n",
      "Epoch [4.2], Step [599.0016666666667], Loss:0.9479\n"
     ]
    }
   ],
   "source": [
    "import torch\n",
    "import torch.nn as nn\n",
    "import torchvision\n",
    "import torchvision.transforms as transforms\n",
    "\n",
    "input_size = 28 * 28 # 784\n",
    "num_classes = 10\n",
    "num_epochs = 5\n",
    "batch_size = 100\n",
    "learning_rate = 0.001\n",
    "\n",
    "train_dataset = torchvision.datasets.MNIST(root='../data/',\n",
    "                                           train=True,\n",
    "                                           transform=transforms.ToTensor(),\n",
    "                                           download=True)\n",
    "\n",
    "test_dataset = torchvision.datasets.MNIST(root='../data/',\n",
    "                                          train=False,\n",
    "                                          transform=transforms.ToTensor())\n",
    "\n",
    "train_loader = torch.utils.data.DataLoader(dataset=train_dataset,\n",
    "                                           batch_size=batch_size,\n",
    "                                           shuffle=True)\n",
    "\n",
    "test_loader = torch.utils.data.DataLoader(dataset=test_dataset,\n",
    "                                          batch_size=batch_size,\n",
    "                                          shuffle=False)\n",
    "\n",
    "model = nn.Linear(input_size, num_classes)\n",
    "\n",
    "criterion = nn.CrossEntropyLoss()\n",
    "optimizer = torch.optim.SGD(model.parameters(), lr=learning_rate)\n",
    "\n",
    "total_step = len(train_loader)\n",
    "for epoch in range(num_epochs):\n",
    "    for i, (images, labels) in enumerate(train_loader):\n",
    "        images = images.reshape(-1, input_size)\n",
    "        \n",
    "        outputs = model(images)\n",
    "        loss = criterion(outputs, labels)\n",
    "        \n",
    "        optimizer.zero_grad()\n",
    "        loss.backward()\n",
    "        optimizer.step()\n",
    "        \n",
    "        if (i+1)%100 == 0:\n",
    "            print(f\"Epoch [{epoch+1/num_epochs}], Step [{i+1/total_step}], Loss:{loss.item():.4f}\")"
   ]
  },
  {
   "cell_type": "code",
   "execution_count": 3,
   "metadata": {},
   "outputs": [
    {
     "name": "stdout",
     "output_type": "stream",
     "text": [
      "Accuracy of the model on the 10000 test images: 82.95999908447266 %\n"
     ]
    }
   ],
   "source": [
    "with torch.no_grad():\n",
    "    correct = 0\n",
    "    total = 0\n",
    "    for images, labels in test_loader:\n",
    "        images = images.reshape(-1, input_size)\n",
    "        outputs = model(images)\n",
    "        _, predicted = torch.max(outputs.data, 1)\n",
    "        total += labels.size(0)\n",
    "        correct += (predicted == labels).sum()\n",
    "    \n",
    "    print(f\"Accuracy of the model on the 10000 test images: {(100 * correct / total)} %\")\n",
    "torch.save(model.state_dict(), 'model.ckpt')\n"
   ]
  },
  {
   "cell_type": "code",
   "execution_count": null,
   "metadata": {},
   "outputs": [],
   "source": []
  }
 ],
 "metadata": {
  "kernelspec": {
   "display_name": "base",
   "language": "python",
   "name": "python3"
  },
  "language_info": {
   "codemirror_mode": {
    "name": "ipython",
    "version": 3
   },
   "file_extension": ".py",
   "mimetype": "text/x-python",
   "name": "python",
   "nbconvert_exporter": "python",
   "pygments_lexer": "ipython3",
   "version": "3.10.9"
  },
  "orig_nbformat": 4
 },
 "nbformat": 4,
 "nbformat_minor": 2
}
