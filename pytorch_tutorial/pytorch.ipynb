{
 "cells": [
  {
   "cell_type": "code",
   "execution_count": 4,
   "metadata": {},
   "outputs": [
    {
     "data": {
      "text/plain": [
       "<torch._C.Generator at 0x17ced542930>"
      ]
     },
     "execution_count": 4,
     "metadata": {},
     "output_type": "execute_result"
    }
   ],
   "source": [
    "import torch\n",
    "import torch.nn as nn\n",
    "import torch.nn.functional as F\n",
    "import torch.optim as optim\n",
    "\n",
    "torch.manual_seed(1)"
   ]
  },
  {
   "cell_type": "code",
   "execution_count": 5,
   "metadata": {},
   "outputs": [
    {
     "name": "stdout",
     "output_type": "stream",
     "text": [
      "tensor([[1.],\n",
      "        [2.],\n",
      "        [3.]])\n",
      "torch.Size([3, 1])\n"
     ]
    }
   ],
   "source": [
    "x_train = torch.FloatTensor([[1], [2], [3]])\n",
    "y_train = torch.FloatTensor([[2], [4], [6]])\n",
    "print(x_train)\n",
    "print(x_train.shape)"
   ]
  },
  {
   "cell_type": "code",
   "execution_count": 6,
   "metadata": {},
   "outputs": [
    {
     "name": "stdout",
     "output_type": "stream",
     "text": [
      "tensor([0.], requires_grad=True)\n"
     ]
    }
   ],
   "source": [
    "W = torch.zeros(1, requires_grad=True)\n",
    "print(W)"
   ]
  },
  {
   "cell_type": "code",
   "execution_count": 8,
   "metadata": {},
   "outputs": [
    {
     "name": "stdout",
     "output_type": "stream",
     "text": [
      "tensor([0.], requires_grad=True)\n"
     ]
    }
   ],
   "source": [
    "b = torch.zeros(1, requires_grad=True)\n",
    "print(b)"
   ]
  },
  {
   "cell_type": "code",
   "execution_count": 9,
   "metadata": {},
   "outputs": [
    {
     "name": "stdout",
     "output_type": "stream",
     "text": [
      "tensor([[0.],\n",
      "        [0.],\n",
      "        [0.]], grad_fn=<AddBackward0>)\n"
     ]
    }
   ],
   "source": [
    "hypothesis = x_train * W + b\n",
    "print(hypothesis)"
   ]
  },
  {
   "cell_type": "code",
   "execution_count": 10,
   "metadata": {},
   "outputs": [
    {
     "name": "stdout",
     "output_type": "stream",
     "text": [
      "tensor(18.6667, grad_fn=<MeanBackward0>)\n"
     ]
    }
   ],
   "source": [
    "cost = torch.mean((hypothesis - y_train) ** 2)\n",
    "print(cost)"
   ]
  },
  {
   "cell_type": "code",
   "execution_count": 11,
   "metadata": {},
   "outputs": [],
   "source": [
    "optimizer = optim.SGD([W,b], lr=0.01)\n",
    "optimizer.zero_grad()\n",
    "cost.backward()\n",
    "optimizer.step()"
   ]
  },
  {
   "cell_type": "code",
   "execution_count": 13,
   "metadata": {},
   "outputs": [
    {
     "name": "stdout",
     "output_type": "stream",
     "text": [
      "Epoch:    0/1999 W:0.500, b: 0.214, Cost: 11.691541\n",
      "Epoch:  100/1999 W:1.747, b: 0.575, Cost: 0.047709\n",
      "Epoch:  200/1999 W:1.801, b: 0.452, Cost: 0.029481\n",
      "Epoch:  300/1999 W:1.844, b: 0.356, Cost: 0.018218\n",
      "Epoch:  400/1999 W:1.877, b: 0.279, Cost: 0.011257\n",
      "Epoch:  500/1999 W:1.903, b: 0.220, Cost: 0.006956\n",
      "Epoch:  600/1999 W:1.924, b: 0.173, Cost: 0.004299\n",
      "Epoch:  700/1999 W:1.940, b: 0.136, Cost: 0.002656\n",
      "Epoch:  800/1999 W:1.953, b: 0.107, Cost: 0.001641\n",
      "Epoch:  900/1999 W:1.963, b: 0.084, Cost: 0.001014\n",
      "Epoch: 1000/1999 W:1.971, b: 0.066, Cost: 0.000627\n",
      "Epoch: 1100/1999 W:1.977, b: 0.052, Cost: 0.000387\n",
      "Epoch: 1200/1999 W:1.982, b: 0.041, Cost: 0.000239\n",
      "Epoch: 1300/1999 W:1.986, b: 0.032, Cost: 0.000148\n",
      "Epoch: 1400/1999 W:1.989, b: 0.025, Cost: 0.000091\n",
      "Epoch: 1500/1999 W:1.991, b: 0.020, Cost: 0.000056\n",
      "Epoch: 1600/1999 W:1.993, b: 0.016, Cost: 0.000035\n",
      "Epoch: 1700/1999 W:1.995, b: 0.012, Cost: 0.000022\n",
      "Epoch: 1800/1999 W:1.996, b: 0.010, Cost: 0.000013\n",
      "Epoch: 1900/1999 W:1.997, b: 0.008, Cost: 0.000008\n"
     ]
    }
   ],
   "source": [
    "nb_epochs = 1999\n",
    "for epoch in range(nb_epochs+1):\n",
    "    hypothesis = x_train * W + b # 예측값 계산\n",
    "    cost = torch.mean((hypothesis - y_train) ** 2) # cost function\n",
    "    \n",
    "    # cost function을 통해 H(x) 개선\n",
    "    optimizer.zero_grad()\n",
    "    cost.backward() # 오차역전파\n",
    "    optimizer.step()\n",
    "    \n",
    "    if epoch % 100 == 0:\n",
    "        print('Epoch: {:4d}/{} W:{:.3f}, b: {:.3f}, Cost: {:.6f}'.format(epoch, nb_epochs, W.item(), b.item(), cost.item()))"
   ]
  },
  {
   "cell_type": "code",
   "execution_count": null,
   "metadata": {},
   "outputs": [],
   "source": []
  }
 ],
 "metadata": {
  "kernelspec": {
   "display_name": "Python 3",
   "language": "python",
   "name": "python3"
  },
  "language_info": {
   "codemirror_mode": {
    "name": "ipython",
    "version": 3
   },
   "file_extension": ".py",
   "mimetype": "text/x-python",
   "name": "python",
   "nbconvert_exporter": "python",
   "pygments_lexer": "ipython3",
   "version": "3.10.4"
  },
  "orig_nbformat": 4
 },
 "nbformat": 4,
 "nbformat_minor": 2
}
